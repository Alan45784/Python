{
 "cells": [
  {
   "cell_type": "markdown",
   "metadata": {},
   "source": [
    "# 1.层级索引"
   ]
  },
  {
   "cell_type": "code",
   "execution_count": 1,
   "metadata": {
    "collapsed": true
   },
   "outputs": [],
   "source": [
    "import numpy as np\n",
    "import pandas as pd"
   ]
  },
  {
   "cell_type": "code",
   "execution_count": 14,
   "metadata": {
    "scrolled": true
   },
   "outputs": [
    {
     "data": {
      "text/plain": [
       "a  0   -0.241259\n",
       "   1    0.898846\n",
       "   2   -0.233832\n",
       "b  0    0.796350\n",
       "   1    0.025104\n",
       "   2    1.232659\n",
       "c  0   -0.899175\n",
       "   1    0.684583\n",
       "   2    0.970989\n",
       "d  0   -0.075916\n",
       "   1   -1.913964\n",
       "   2    0.223474\n",
       "dtype: float64"
      ]
     },
     "execution_count": 14,
     "metadata": {},
     "output_type": "execute_result"
    }
   ],
   "source": [
    "s1 = pd.Series(np.random.randn(12),index = [['a','a','a','b','b','b','c','c','c','d','d','d'],[0,1,2,0,1,2,0,1,2,0,1,2]])\n",
    "s1"
   ]
  },
  {
   "cell_type": "code",
   "execution_count": 8,
   "metadata": {},
   "outputs": [
    {
     "name": "stdout",
     "output_type": "stream",
     "text": [
      "<class 'pandas.core.indexes.multi.MultiIndex'>\n",
      "MultiIndex(levels=[['a', 'b', 'c', 'd'], [0, 1, 2]],\n",
      "           labels=[[0, 0, 0, 1, 1, 1, 2, 2, 2, 3, 3, 3], [0, 1, 2, 0, 1, 2, 0, 1, 2, 0, 1, 2]])\n"
     ]
    }
   ],
   "source": [
    "print(type(s1.index))\n",
    "print(s1.index)"
   ]
  },
  {
   "cell_type": "markdown",
   "metadata": {},
   "source": [
    "# 2.选取"
   ]
  },
  {
   "cell_type": "code",
   "execution_count": 9,
   "metadata": {
    "scrolled": true
   },
   "outputs": [
    {
     "data": {
      "text/plain": [
       "0   -1.160503\n",
       "1    1.575591\n",
       "2    0.145189\n",
       "dtype: float64"
      ]
     },
     "execution_count": 9,
     "metadata": {},
     "output_type": "execute_result"
    }
   ],
   "source": [
    "#1.外层选取\n",
    "s1['b']"
   ]
  },
  {
   "cell_type": "code",
   "execution_count": 10,
   "metadata": {},
   "outputs": [
    {
     "data": {
      "text/plain": [
       "a   -0.496203\n",
       "b    0.145189\n",
       "c    0.481451\n",
       "d    0.102005\n",
       "dtype: float64"
      ]
     },
     "execution_count": 10,
     "metadata": {},
     "output_type": "execute_result"
    }
   ],
   "source": [
    "#2.内层获取\n",
    "s1[:,2]"
   ]
  },
  {
   "cell_type": "code",
   "execution_count": 11,
   "metadata": {},
   "outputs": [
    {
     "data": {
      "text/plain": [
       "-1.305023812462099"
      ]
     },
     "execution_count": 11,
     "metadata": {},
     "output_type": "execute_result"
    }
   ],
   "source": [
    "s1['a',0]"
   ]
  },
  {
   "cell_type": "markdown",
   "metadata": {},
   "source": [
    "# 3.交换 "
   ]
  },
  {
   "cell_type": "code",
   "execution_count": 12,
   "metadata": {},
   "outputs": [
    {
     "data": {
      "text/plain": [
       "0  a   -1.305024\n",
       "1  a   -0.298015\n",
       "2  a   -0.496203\n",
       "0  b   -1.160503\n",
       "1  b    1.575591\n",
       "2  b    0.145189\n",
       "0  c   -0.663183\n",
       "1  c   -0.859185\n",
       "2  c    0.481451\n",
       "0  d   -1.053800\n",
       "1  d   -0.954103\n",
       "2  d    0.102005\n",
       "dtype: float64"
      ]
     },
     "execution_count": 12,
     "metadata": {},
     "output_type": "execute_result"
    }
   ],
   "source": [
    "#1.swaplevel（）交换内层和外层的索引\n",
    "s1.swaplevel()"
   ]
  },
  {
   "cell_type": "code",
   "execution_count": 15,
   "metadata": {},
   "outputs": [
    {
     "name": "stderr",
     "output_type": "stream",
     "text": [
      "D:\\Anaconda\\lib\\site-packages\\ipykernel_launcher.py:2: FutureWarning: sortlevel is deprecated, use sort_index(level=...)\n",
      "  \n"
     ]
    },
    {
     "data": {
      "text/plain": [
       "a  0   -0.241259\n",
       "   1    0.898846\n",
       "   2   -0.233832\n",
       "b  0    0.796350\n",
       "   1    0.025104\n",
       "   2    1.232659\n",
       "c  0   -0.899175\n",
       "   1    0.684583\n",
       "   2    0.970989\n",
       "d  0   -0.075916\n",
       "   1   -1.913964\n",
       "   2    0.223474\n",
       "dtype: float64"
      ]
     },
     "execution_count": 15,
     "metadata": {},
     "output_type": "execute_result"
    }
   ],
   "source": [
    "#2.sortlevel()先对外层索引进行排序，在对内层索引进行排序， 默认升序\n",
    "s1.sortlevel()"
   ]
  },
  {
   "cell_type": "code",
   "execution_count": 16,
   "metadata": {},
   "outputs": [
    {
     "name": "stderr",
     "output_type": "stream",
     "text": [
      "D:\\Anaconda\\lib\\site-packages\\ipykernel_launcher.py:2: FutureWarning: sortlevel is deprecated, use sort_index(level=...)\n",
      "  \n"
     ]
    },
    {
     "data": {
      "text/plain": [
       "0  a   -0.241259\n",
       "   b    0.796350\n",
       "   c   -0.899175\n",
       "   d   -0.075916\n",
       "1  a    0.898846\n",
       "   b    0.025104\n",
       "   c    0.684583\n",
       "   d   -1.913964\n",
       "2  a   -0.233832\n",
       "   b    1.232659\n",
       "   c    0.970989\n",
       "   d    0.223474\n",
       "dtype: float64"
      ]
     },
     "execution_count": 16,
     "metadata": {},
     "output_type": "execute_result"
    }
   ],
   "source": [
    "#交换并排序分层\n",
    "s1.swaplevel().sortlevel()"
   ]
  },
  {
   "cell_type": "code",
   "execution_count": null,
   "metadata": {
    "collapsed": true
   },
   "outputs": [],
   "source": []
  }
 ],
 "metadata": {
  "kernelspec": {
   "display_name": "Python 3",
   "language": "python",
   "name": "python3"
  },
  "language_info": {
   "codemirror_mode": {
    "name": "ipython",
    "version": 3
   },
   "file_extension": ".py",
   "mimetype": "text/x-python",
   "name": "python",
   "nbconvert_exporter": "python",
   "pygments_lexer": "ipython3",
   "version": "3.6.3"
  }
 },
 "nbformat": 4,
 "nbformat_minor": 2
}
